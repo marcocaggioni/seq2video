{
 "cells": [
  {
   "cell_type": "code",
   "execution_count": 58,
   "id": "cheap-practitioner",
   "metadata": {},
   "outputs": [],
   "source": [
    "from pathlib import Path\n",
    "import datetime\n",
    "from moviepy.editor import *\n",
    "from PIL import Image\n",
    "from PIL import ImageFont\n",
    "from PIL import ImageDraw\n",
    "import numpy as np\n",
    "\n",
    "font = ImageFont.truetype(\"arial.ttf\", 40)\n",
    "\n",
    "def make_timalepse_video_from_folder(exp_folder):\n",
    "    '''Read images in exp_folder, find date created, \n",
    "    stamps it on the image and generate mp4 video \n",
    "    named as exp_folder in current folder'''\n",
    "    \n",
    "    exp_folder=Path(exp_folder)\n",
    "    \n",
    "    print(f'Processing images in folder: {exp_folder.resolve()}')\n",
    "    \n",
    "    p = Path(exp_folder).glob('**/*')\n",
    "          \n",
    "    files = [item for item in p if item.is_file() and item.suffix=='.jpg']\n",
    "    times = [datetime.datetime.fromtimestamp(file.stat().st_mtime) for file in files]\n",
    "    times=list(map(lambda x: x-times[0],times))\n",
    "\n",
    "    clips=[]\n",
    "    for file, time in zip(files, times):\n",
    "        img=Image.open(file)\n",
    "        ImageDraw.Draw(img).text((0,0), str(time),font=font)\n",
    "        clip =ImageClip(np.array(img)).set_duration(0.1)\n",
    "        clips.append(clip)\n",
    "\n",
    "    concat_clip = concatenate_videoclips(clips, method=\"compose\")\n",
    "    concat_clip.write_videofile(f\"{exp_folder.name}.mp4\", fps=24)"
   ]
  },
  {
   "cell_type": "code",
   "execution_count": 59,
   "id": "genuine-sixth",
   "metadata": {},
   "outputs": [
    {
     "name": "stdout",
     "output_type": "stream",
     "text": [
      "folder {}\n",
      "filename {}\n",
      "path {}\n",
      "source {}\n",
      "size {}\n",
      "segmented {}\n",
      "object {}\n",
      "object {}\n",
      "object {}\n",
      "object {}\n"
     ]
    }
   ],
   "source": [
    "import xml.etree.ElementTree as ET\n",
    "tree = ET.parse('AOI.xml')\n",
    "root = tree.getroot()\n",
    "\n",
    "for child in root:\n",
    "    print(child.tag, child.attrib)"
   ]
  },
  {
   "cell_type": "code",
   "execution_count": 60,
   "id": "talented-coast",
   "metadata": {},
   "outputs": [
    {
     "name": "stdout",
     "output_type": "stream",
     "text": [
      "Processing images in folder: /home/jovyan/work/Documents/timelapse/git/seq2video/notebooks/add_AOI_feature/cf90r1-041321-80LAS-diwater\n"
     ]
    },
    {
     "ename": "ValueError",
     "evalue": "max() arg is an empty sequence",
     "output_type": "error",
     "traceback": [
      "\u001b[0;31m---------------------------------------------------------------------------\u001b[0m",
      "\u001b[0;31mValueError\u001b[0m                                Traceback (most recent call last)",
      "\u001b[0;32m<ipython-input-60-69fb26c54358>\u001b[0m in \u001b[0;36m<module>\u001b[0;34m\u001b[0m\n\u001b[1;32m      1\u001b[0m \u001b[0mexp_folder\u001b[0m\u001b[0;34m=\u001b[0m\u001b[0;34m'./cf90r1-041321-80LAS-diwater/'\u001b[0m\u001b[0;34m\u001b[0m\u001b[0;34m\u001b[0m\u001b[0m\n\u001b[1;32m      2\u001b[0m \u001b[0;34m\u001b[0m\u001b[0m\n\u001b[0;32m----> 3\u001b[0;31m \u001b[0mmake_timalepse_video_from_folder\u001b[0m\u001b[0;34m(\u001b[0m\u001b[0mexp_folder\u001b[0m\u001b[0;34m)\u001b[0m\u001b[0;34m\u001b[0m\u001b[0;34m\u001b[0m\u001b[0m\n\u001b[0m",
      "\u001b[0;32m<ipython-input-58-ffd24d5eb793>\u001b[0m in \u001b[0;36mmake_timalepse_video_from_folder\u001b[0;34m(exp_folder)\u001b[0m\n\u001b[1;32m     31\u001b[0m         \u001b[0mclips\u001b[0m\u001b[0;34m.\u001b[0m\u001b[0mappend\u001b[0m\u001b[0;34m(\u001b[0m\u001b[0mclip\u001b[0m\u001b[0;34m)\u001b[0m\u001b[0;34m\u001b[0m\u001b[0;34m\u001b[0m\u001b[0m\n\u001b[1;32m     32\u001b[0m \u001b[0;34m\u001b[0m\u001b[0m\n\u001b[0;32m---> 33\u001b[0;31m     \u001b[0mconcat_clip\u001b[0m \u001b[0;34m=\u001b[0m \u001b[0mconcatenate_videoclips\u001b[0m\u001b[0;34m(\u001b[0m\u001b[0mclips\u001b[0m\u001b[0;34m,\u001b[0m \u001b[0mmethod\u001b[0m\u001b[0;34m=\u001b[0m\u001b[0;34m\"compose\"\u001b[0m\u001b[0;34m)\u001b[0m\u001b[0;34m\u001b[0m\u001b[0;34m\u001b[0m\u001b[0m\n\u001b[0m\u001b[1;32m     34\u001b[0m     \u001b[0mconcat_clip\u001b[0m\u001b[0;34m.\u001b[0m\u001b[0mwrite_videofile\u001b[0m\u001b[0;34m(\u001b[0m\u001b[0;34mf\"{exp_folder.name}.mp4\"\u001b[0m\u001b[0;34m,\u001b[0m \u001b[0mfps\u001b[0m\u001b[0;34m=\u001b[0m\u001b[0;36m24\u001b[0m\u001b[0;34m)\u001b[0m\u001b[0;34m\u001b[0m\u001b[0;34m\u001b[0m\u001b[0m\n",
      "\u001b[0;32m/opt/conda/lib/python3.8/site-packages/moviepy/video/compositing/concatenate.py\u001b[0m in \u001b[0;36mconcatenate_videoclips\u001b[0;34m(clips, method, transition, bg_color, ismask, padding)\u001b[0m\n\u001b[1;32m     73\u001b[0m     \u001b[0msizes\u001b[0m \u001b[0;34m=\u001b[0m \u001b[0;34m[\u001b[0m\u001b[0mv\u001b[0m\u001b[0;34m.\u001b[0m\u001b[0msize\u001b[0m \u001b[0;32mfor\u001b[0m \u001b[0mv\u001b[0m \u001b[0;32min\u001b[0m \u001b[0mclips\u001b[0m\u001b[0;34m]\u001b[0m\u001b[0;34m\u001b[0m\u001b[0;34m\u001b[0m\u001b[0m\n\u001b[1;32m     74\u001b[0m \u001b[0;34m\u001b[0m\u001b[0m\n\u001b[0;32m---> 75\u001b[0;31m     \u001b[0mw\u001b[0m \u001b[0;34m=\u001b[0m \u001b[0mmax\u001b[0m\u001b[0;34m(\u001b[0m\u001b[0;34m[\u001b[0m\u001b[0mr\u001b[0m\u001b[0;34m[\u001b[0m\u001b[0;36m0\u001b[0m\u001b[0;34m]\u001b[0m \u001b[0;32mfor\u001b[0m \u001b[0mr\u001b[0m \u001b[0;32min\u001b[0m \u001b[0msizes\u001b[0m\u001b[0;34m]\u001b[0m\u001b[0;34m)\u001b[0m\u001b[0;34m\u001b[0m\u001b[0;34m\u001b[0m\u001b[0m\n\u001b[0m\u001b[1;32m     76\u001b[0m     \u001b[0mh\u001b[0m \u001b[0;34m=\u001b[0m \u001b[0mmax\u001b[0m\u001b[0;34m(\u001b[0m\u001b[0;34m[\u001b[0m\u001b[0mr\u001b[0m\u001b[0;34m[\u001b[0m\u001b[0;36m1\u001b[0m\u001b[0;34m]\u001b[0m \u001b[0;32mfor\u001b[0m \u001b[0mr\u001b[0m \u001b[0;32min\u001b[0m \u001b[0msizes\u001b[0m\u001b[0;34m]\u001b[0m\u001b[0;34m)\u001b[0m\u001b[0;34m\u001b[0m\u001b[0;34m\u001b[0m\u001b[0m\n\u001b[1;32m     77\u001b[0m \u001b[0;34m\u001b[0m\u001b[0m\n",
      "\u001b[0;31mValueError\u001b[0m: max() arg is an empty sequence"
     ]
    }
   ],
   "source": [
    "exp_folder='./cf90r1-041321-80LAS-diwater/'\n",
    "\n",
    "make_timalepse_video_from_folder(exp_folder)"
   ]
  },
  {
   "cell_type": "code",
   "execution_count": 61,
   "id": "weird-durham",
   "metadata": {},
   "outputs": [],
   "source": [
    "import xmltodict\n",
    "\n",
    "with open('AOI.xml', 'r') as file:\n",
    "    AOI_from_XML=xmltodict.parse(file.read())"
   ]
  },
  {
   "cell_type": "code",
   "execution_count": 62,
   "id": "numerous-carrier",
   "metadata": {},
   "outputs": [],
   "source": [
    "AOI_dict={}\n",
    "for AOI in AOI_from_XML['annotation']['object']:\n",
    "    AOI_dict[AOI['name']]=AOI['bndbox']\n"
   ]
  },
  {
   "cell_type": "code",
   "execution_count": 64,
   "id": "cooperative-possible",
   "metadata": {},
   "outputs": [
    {
     "name": "stdout",
     "output_type": "stream",
     "text": [
      "top1 OrderedDict([('xmin', '2346'), ('ymin', '745'), ('xmax', '2596'), ('ymax', '1004')])\n",
      "top2 OrderedDict([('xmin', '2375'), ('ymin', '1895'), ('xmax', '2675'), ('ymax', '2187')])\n",
      "top3 OrderedDict([('xmin', '2308'), ('ymin', '3145'), ('xmax', '2621'), ('ymax', '3425')])\n",
      "top4 OrderedDict([('xmin', '2396'), ('ymin', '4379'), ('xmax', '2692'), ('ymax', '4683')])\n"
     ]
    }
   ],
   "source": [
    "for name, item in AOI_dict.items():\n",
    "    print(name,item)"
   ]
  },
  {
   "cell_type": "code",
   "execution_count": 31,
   "id": "waiting-theorem",
   "metadata": {},
   "outputs": [
    {
     "data": {
      "text/plain": [
       "OrderedDict([('name', 'top1'),\n",
       "             ('pose', 'Unspecified'),\n",
       "             ('truncated', '0'),\n",
       "             ('difficult', '0'),\n",
       "             ('bndbox',\n",
       "              OrderedDict([('xmin', '2346'),\n",
       "                           ('ymin', '745'),\n",
       "                           ('xmax', '2596'),\n",
       "                           ('ymax', '1004')]))])"
      ]
     },
     "execution_count": 31,
     "metadata": {},
     "output_type": "execute_result"
    }
   ],
   "source": [
    "AOI_dict['annotation']['object'][0]"
   ]
  },
  {
   "cell_type": "code",
   "execution_count": 38,
   "id": "stunning-spyware",
   "metadata": {},
   "outputs": [],
   "source": [
    "img=Image.open('20210430-113421.bmp')"
   ]
  },
  {
   "cell_type": "code",
   "execution_count": 45,
   "id": "speaking-driver",
   "metadata": {},
   "outputs": [
    {
     "data": {
      "image/png": "[encoded data removed]",
      "text/plain": [
       "<PIL.Image.Image image mode=RGB size=250x259 at 0x7FA8462CDF40>"
      ]
     },
     "execution_count": 45,
     "metadata": {},
     "output_type": "execute_result"
    }
   ],
   "source": [
    "img.crop((int(AOI_dict['top1']['xmin']),int(AOI_dict['top1']['ymin']),int(AOI_dict['top1']['xmax']),int(AOI_dict['top1']['ymax'])))"
   ]
  },
  {
   "cell_type": "code",
   "execution_count": 44,
   "id": "featured-basin",
   "metadata": {},
   "outputs": [
    {
     "data": {
      "text/plain": [
       "(2346, 1004, 2596, 745)"
      ]
     },
     "execution_count": 44,
     "metadata": {},
     "output_type": "execute_result"
    }
   ],
   "source": [
    "(int(AOI_dict['top1']['xmin']),int(AOI_dict['top1']['ymax']),int(AOI_dict['top1']['xmax']),int(AOI_dict['top1']['ymin']))"
   ]
  },
  {
   "cell_type": "code",
   "execution_count": 54,
   "id": "african-hindu",
   "metadata": {},
   "outputs": [],
   "source": [
    "from pathlib import Path\n",
    "import datetime\n",
    "from moviepy.editor import *\n",
    "from PIL import Image\n",
    "from PIL import ImageFont\n",
    "from PIL import ImageDraw\n",
    "import numpy as np\n",
    "import xmltodict\n",
    "\n",
    "\n",
    "font = ImageFont.truetype(\"arial.ttf\", 40)\n",
    "\n",
    "def make_timalepse_video_from_folder(exp_folder, xml_mask=None):\n",
    "    '''Read images in exp_folder, find date created, \n",
    "    stamps it on the image and generate mp4 video \n",
    "    named as exp_folder in current folder'''\n",
    "    \n",
    "    exp_folder=Path(exp_folder)\n",
    "    \n",
    "    print(f'Processing images in folder: {exp_folder.resolve()}')\n",
    "    \n",
    "    p = Path(exp_folder).glob('**/*')\n",
    "          \n",
    "    files = [item for item in p if item.is_file() and item.suffix=='.bmp']\n",
    "    times = [datetime.datetime.fromtimestamp(file.stat().st_mtime) for file in files]\n",
    "    times=list(map(lambda x: x-times[0],times))\n",
    "\n",
    "    \n",
    "    if xml_mask is None:\n",
    "        clips=[]\n",
    "        for file, time in zip(files, times):\n",
    "            img=Image.open(file)\n",
    "            ImageDraw.Draw(img).text((0,0), str(time),font=font)\n",
    "            clip =ImageClip(np.array(img)).set_duration(0.1)\n",
    "            clips.append(clip)\n",
    "\n",
    "        concat_clip = concatenate_videoclips(clips, method=\"compose\")\n",
    "        concat_clip.write_videofile(f\"{exp_folder.name}.mp4\", fps=24)\n",
    "    \n",
    "    else:\n",
    "        with open(xml_mask, 'r') as file:\n",
    "            AOI_from_XML=xmltodict.parse(file.read())\n",
    "        AOI_dict={}\n",
    "        for AOI in AOI_from_XML['annotation']['object']:\n",
    "            AOI_dict[AOI['name']]=AOI['bndbox']\n",
    "        \n",
    "        for AOI_name, AOI in AOI_dict.items():\n",
    "            \n",
    "            clips=[]\n",
    "            for file, time in zip(files, times):\n",
    "                img=Image.open(file).crop((int(AOI['xmin']),int(AOI['ymin']),int(AOI['xmax']),int(AOI['ymax'])))\n",
    "                ImageDraw.Draw(img).text((0,0), str(time),font=font)\n",
    "                clip =ImageClip(np.array(img)).set_duration(0.1)\n",
    "                clips.append(clip)\n",
    "\n",
    "            concat_clip = concatenate_videoclips(clips, method=\"compose\")\n",
    "            concat_clip.write_videofile(f\"{AOI_name}_{exp_folder.name}.mp4\", fps=24)"
   ]
  },
  {
   "cell_type": "code",
   "execution_count": 55,
   "id": "material-apollo",
   "metadata": {},
   "outputs": [
    {
     "name": "stdout",
     "output_type": "stream",
     "text": [
      "Processing images in folder: /home/jovyan/work/Documents/timelapse/git/seq2video/notebooks/add_AOI_feature/test_folder\n"
     ]
    },
    {
     "name": "stderr",
     "output_type": "stream",
     "text": [
      "                                                   "
     ]
    },
    {
     "name": "stdout",
     "output_type": "stream",
     "text": [
      "Moviepy - Building video top1_test_folder.mp4.\n",
      "Moviepy - Writing video top1_test_folder.mp4\n",
      "\n",
      "Moviepy - Done !\n",
      "Moviepy - video ready top1_test_folder.mp4\n"
     ]
    },
    {
     "name": "stderr",
     "output_type": "stream",
     "text": [
      "                                                   "
     ]
    },
    {
     "name": "stdout",
     "output_type": "stream",
     "text": [
      "Moviepy - Building video top2_test_folder.mp4.\n",
      "Moviepy - Writing video top2_test_folder.mp4\n",
      "\n",
      "Moviepy - Done !\n",
      "Moviepy - video ready top2_test_folder.mp4\n"
     ]
    },
    {
     "name": "stderr",
     "output_type": "stream",
     "text": [
      "                                                   "
     ]
    },
    {
     "name": "stdout",
     "output_type": "stream",
     "text": [
      "Moviepy - Building video top3_test_folder.mp4.\n",
      "Moviepy - Writing video top3_test_folder.mp4\n",
      "\n",
      "Moviepy - Done !\n",
      "Moviepy - video ready top3_test_folder.mp4\n"
     ]
    },
    {
     "name": "stderr",
     "output_type": "stream",
     "text": [
      "                                                   "
     ]
    },
    {
     "name": "stdout",
     "output_type": "stream",
     "text": [
      "Moviepy - Building video top4_test_folder.mp4.\n",
      "Moviepy - Writing video top4_test_folder.mp4\n",
      "\n",
      "Moviepy - Done !\n",
      "Moviepy - video ready top4_test_folder.mp4\n"
     ]
    },
    {
     "name": "stderr",
     "output_type": "stream",
     "text": [
      "\r"
     ]
    }
   ],
   "source": [
    "make_timalepse_video_from_folder('test_folder/', xml_mask='AOI.xml')"
   ]
  },
  {
   "cell_type": "code",
   "execution_count": 57,
   "id": "banner-radius",
   "metadata": {},
   "outputs": [],
   "source": [
    "import click\n",
    "\n",
    "from pathlib import Path\n",
    "import datetime\n",
    "from moviepy.editor import *\n",
    "from PIL import Image\n",
    "from PIL import ImageFont\n",
    "from PIL import ImageDraw\n",
    "import numpy as np\n",
    "\n",
    "font = ImageFont.truetype(\"arial.ttf\", 40)\n",
    "\n",
    "@click.command()\n",
    "@click.option('--exp_folder', default='./', help='Path to experiment folder with images. Exp_folder will be also used to name the timelapse video')\n",
    "@click.option('--xml_mask', default=None, help='Path to xml file with 1 or multiple masks generated by labelimg ')\n",
    "\n",
    "def main(exp_folder, xml_mask=None):\n",
    "    '''Read images in exp_folder, finds date created, \n",
    "    stamps it on the image and generate mp4 video \n",
    "    named as exp_folder in current folder\n",
    "    \n",
    "    Added parameter xml_mask'''\n",
    "    \n",
    "    exp_folder=Path(exp_folder)\n",
    "    \n",
    "    print(f'Processing images in folder: {exp_folder.resolve()}')\n",
    "    \n",
    "    p = Path(exp_folder).glob('**/*')\n",
    "          \n",
    "    files = [item for item in p if item.is_file() and item.suffix=='.jpg']\n",
    "    times = [datetime.datetime.fromtimestamp(file.stat().st_mtime) for file in files]\n",
    "    times=list(map(lambda x: x-times[0],times))\n",
    "\n",
    "\n",
    "    if xml_mask is None:\n",
    "        clips=[]\n",
    "        for file, time in zip(files, times):\n",
    "            img=Image.open(file)\n",
    "            ImageDraw.Draw(img).text((0,0), str(time).split('.')[0],font=font)\n",
    "            clip =ImageClip(np.array(img)).set_duration(0.1)\n",
    "            clips.append(clip)\n",
    "\n",
    "        concat_clip = concatenate_videoclips(clips, method=\"compose\")\n",
    "        concat_clip.write_videofile(f\"{exp_folder.name}.mp4\", fps=24)\n",
    "    else:\n",
    "        with open(xml_mask, 'r') as file:\n",
    "            AOI_from_XML=xmltodict.parse(file.read())\n",
    "        AOI_dict={}\n",
    "        for AOI in AOI_from_XML['annotation']['object']:\n",
    "            AOI_dict[AOI['name']]=AOI['bndbox']\n",
    "        \n",
    "        for AOI_name, AOI in AOI_dict.items():\n",
    "            \n",
    "            clips=[]\n",
    "            for file, time in zip(files, times):\n",
    "                img=Image.open(file).crop((int(AOI['xmin']),int(AOI['ymin']),int(AOI['xmax']),int(AOI['ymax'])))\n",
    "                ImageDraw.Draw(img).text((0,0), str(time).split('.')[0],font=font)\n",
    "                clip =ImageClip(np.array(img)).set_duration(0.1)\n",
    "                clips.append(clip)\n",
    "\n",
    "            concat_clip = concatenate_videoclips(clips, method=\"compose\")\n",
    "            concat_clip.write_videofile(f\"{AOI_name}_{exp_folder.name}.mp4\", fps=24)\n",
    "\n",
    "# if __name__ == '__main__':\n",
    "#     sys.exit(main())\n"
   ]
  },
  {
   "cell_type": "code",
   "execution_count": null,
   "id": "needed-candidate",
   "metadata": {},
   "outputs": [],
   "source": []
  }
 ],
 "metadata": {
  "kernelspec": {
   "display_name": "Python 3",
   "language": "python",
   "name": "python3"
  },
  "language_info": {
   "codemirror_mode": {
    "name": "ipython",
    "version": 3
   },
   "file_extension": ".py",
   "mimetype": "text/x-python",
   "name": "python",
   "nbconvert_exporter": "python",
   "pygments_lexer": "ipython3",
   "version": "3.8.8"
  }
 },
 "nbformat": 4,
 "nbformat_minor": 5
}
