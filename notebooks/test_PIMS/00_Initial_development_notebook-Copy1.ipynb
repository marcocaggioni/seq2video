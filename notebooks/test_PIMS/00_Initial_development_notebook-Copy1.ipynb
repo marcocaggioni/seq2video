{
 "cells": [
  {
   "cell_type": "code",
   "execution_count": null,
   "id": "printable-clearance",
   "metadata": {},
   "outputs": [],
   "source": [
    "# Folder containing images\n",
    "\n",
    "User provides: exp_folder"
   ]
  },
  {
   "cell_type": "code",
   "execution_count": 3,
   "id": "velvet-capacity",
   "metadata": {},
   "outputs": [],
   "source": [
    "from pathlib import Path\n",
    "\n",
    "exp_folder='./cf90r1-041321-80LAS-diwater/'\n",
    "exp_folder=Path(exp_folder)\n",
    "\n",
    "p = Path(exp_folder).glob('**/*')\n",
    "\n",
    "files = [item for item in p if item.is_file() and item.suffix=='.jpg']"
   ]
  },
  {
   "cell_type": "markdown",
   "id": "explicit-thinking",
   "metadata": {},
   "source": [
    "# Extracting images timestamps"
   ]
  },
  {
   "cell_type": "code",
   "execution_count": 4,
   "id": "exempt-oklahoma",
   "metadata": {},
   "outputs": [],
   "source": [
    "import datetime\n",
    "times = [datetime.datetime.fromtimestamp(file.stat().st_mtime) for file in files]\n",
    "times=list(map(lambda x: x-times[0],times))"
   ]
  },
  {
   "cell_type": "markdown",
   "id": "excess-cleaning",
   "metadata": {},
   "source": [
    "# Stamping images and saving mp4 video"
   ]
  },
  {
   "cell_type": "code",
   "execution_count": null,
   "id": "alien-hawaiian",
   "metadata": {},
   "outputs": [],
   "source": [
    "from moviepy.editor import *\n",
    "from PIL import Image\n",
    "from PIL import ImageFont\n",
    "from PIL import ImageDraw\n",
    "import numpy as np\n",
    "\n",
    "font = ImageFont.truetype(\"arial.ttf\", 40)\n",
    "\n",
    "clips=[]\n",
    "for file, time in zip(files, times):\n",
    "    img=Image.open(file)\n",
    "    ImageDraw.Draw(img).text((0,0), str(time),font=font)\n",
    "    clip =ImageClip(np.array(img)).set_duration(0.1)\n",
    "    clips.append(clip)\n",
    "\n",
    "concat_clip = concatenate_videoclips(clips, method=\"compose\")\n",
    "concat_clip.write_videofile(f\"{exp_folder.name}.mp4\", fps=24)"
   ]
  },
  {
   "cell_type": "markdown",
   "id": "daily-citation",
   "metadata": {},
   "source": [
    "# Reducing dependencies"
   ]
  },
  {
   "cell_type": "code",
   "execution_count": 57,
   "id": "american-structure",
   "metadata": {},
   "outputs": [
    {
     "ename": "SyntaxError",
     "evalue": "invalid syntax (<ipython-input-57-6e65e12ef84b>, line 10)",
     "output_type": "error",
     "traceback": [
      "\u001b[0;36m  File \u001b[0;32m\"<ipython-input-57-6e65e12ef84b>\"\u001b[0;36m, line \u001b[0;32m10\u001b[0m\n\u001b[0;31m    'text':''Test 1:2:3':draw='eq(n,22)''}\u001b[0m\n\u001b[0m             ^\u001b[0m\n\u001b[0;31mSyntaxError\u001b[0m\u001b[0;31m:\u001b[0m invalid syntax\n"
     ]
    }
   ],
   "source": [
    "import os\n",
    "try:\n",
    "    os.remove('out.mp4')\n",
    "except:\n",
    "    pass\n",
    "\n",
    "kwargs_drawtext={'fontfile':'arial.ttf',\n",
    "            'fontcolor':'white',\n",
    "            'fontsize':48,\n",
    "            'text':''Test 1:2:3':draw='eq(n,22)''}\n",
    "\n",
    "import ffmpeg\n",
    "\n",
    "in_file = ffmpeg.input('./cf90r1-041321-80LAS-diwater_repeat/*.jpg',pattern_type='glob', framerate=25)\n",
    "#overlay_file = ffmpeg.input('automation_2x.png')\n",
    "(\n",
    "    ffmpeg.input('./cf90r1-041321-80LAS-diwater_repeat/*.jpg',pattern_type='glob', framerate=25)\n",
    "    #.overlay(overlay_file.hflip())\n",
    "    .drawbox(50, 50, 120, 120, color='red', thickness=5)\n",
    "    .drawtext(x=100, y=100, escape_text=True, **kwargs_drawtext)\n",
    "    .output('out.mp4')\n",
    "    .run()\n",
    ")"
   ]
  },
  {
   "cell_type": "code",
   "execution_count": 41,
   "id": "daily-winning",
   "metadata": {},
   "outputs": [
    {
     "ename": "AttributeError",
     "evalue": "'FilterableStream' object has no attribute 'preview'",
     "output_type": "error",
     "traceback": [
      "\u001b[0;31m---------------------------------------------------------------------------\u001b[0m",
      "\u001b[0;31mAttributeError\u001b[0m                            Traceback (most recent call last)",
      "\u001b[0;32m<ipython-input-41-35f8b7b1da8b>\u001b[0m in \u001b[0;36m<module>\u001b[0;34m\u001b[0m\n\u001b[0;32m----> 1\u001b[0;31m \u001b[0mffmpeg\u001b[0m\u001b[0;34m.\u001b[0m\u001b[0minput\u001b[0m\u001b[0;34m(\u001b[0m\u001b[0;34m'./cf90r1-041321-80LAS-diwater_repeat/*.jpg'\u001b[0m\u001b[0;34m,\u001b[0m\u001b[0;34m**\u001b[0m\u001b[0;34m{\u001b[0m\u001b[0;34m'-f'\u001b[0m\u001b[0;34m:\u001b[0m\u001b[0;34m'image2'\u001b[0m\u001b[0;34m}\u001b[0m\u001b[0;34m)\u001b[0m\u001b[0;34m.\u001b[0m\u001b[0mpreview\u001b[0m\u001b[0;34m(\u001b[0m\u001b[0;34m)\u001b[0m\u001b[0;34m\u001b[0m\u001b[0;34m\u001b[0m\u001b[0m\n\u001b[0m",
      "\u001b[0;31mAttributeError\u001b[0m: 'FilterableStream' object has no attribute 'preview'"
     ]
    }
   ],
   "source": [
    "ffmpeg.input('./cf90r1-041321-80LAS-diwater_repeat/*.jpg',**{'-f':'image2'})."
   ]
  },
  {
   "cell_type": "code",
   "execution_count": null,
   "id": "certain-connectivity",
   "metadata": {},
   "outputs": [],
   "source": []
  }
 ],
 "metadata": {
  "kernelspec": {
   "display_name": "Python 3",
   "language": "python",
   "name": "python3"
  },
  "language_info": {
   "codemirror_mode": {
    "name": "ipython",
    "version": 3
   },
   "file_extension": ".py",
   "mimetype": "text/x-python",
   "name": "python",
   "nbconvert_exporter": "python",
   "pygments_lexer": "ipython3",
   "version": "3.8.8"
  }
 },
 "nbformat": 4,
 "nbformat_minor": 5
}
