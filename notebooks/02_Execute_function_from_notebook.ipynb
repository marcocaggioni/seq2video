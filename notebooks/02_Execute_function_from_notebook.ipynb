{
 "cells": [
  {
   "cell_type": "code",
   "execution_count": 3,
   "id": "common-casting",
   "metadata": {},
   "outputs": [],
   "source": [
    "from pathlib import Path\n",
    "import datetime\n",
    "from moviepy.editor import *\n",
    "from PIL import Image\n",
    "from PIL import ImageFont\n",
    "from PIL import ImageDraw\n",
    "import numpy as np\n",
    "\n",
    "font = ImageFont.truetype(\"arial.ttf\", 40)\n",
    "\n",
    "def make_timalepse_video_from_folder(exp_folder):\n",
    "    '''Read images in exp_folder, find date created, \n",
    "    stamps it on the image and generate mp4 video \n",
    "    named as exp_folder in current folder'''\n",
    "    \n",
    "    exp_folder=Path(exp_folder)\n",
    "    \n",
    "    print(f'Processing images in folder: {exp_folder.resolve()}')\n",
    "    \n",
    "    p = Path(exp_folder).glob('**/*')\n",
    "          \n",
    "    files = [item for item in p if item.is_file() and item.suffix=='.jpg']\n",
    "    times = [datetime.datetime.fromtimestamp(file.stat().st_mtime) for file in files]\n",
    "    times=list(map(lambda x: x-times[0],times))\n",
    "\n",
    "    clips=[]\n",
    "    for file, time in zip(files, times):\n",
    "        img=Image.open(file)\n",
    "        ImageDraw.Draw(img).text((0,0), str(time),font=font)\n",
    "        clip =ImageClip(np.array(img)).set_duration(0.1)\n",
    "        clips.append(clip)\n",
    "\n",
    "    concat_clip = concatenate_videoclips(clips, method=\"compose\")\n",
    "    concat_clip.write_videofile(f\"{exp_folder.name}.mp4\", fps=24)"
   ]
  },
  {
   "cell_type": "code",
   "execution_count": 6,
   "id": "toxic-education",
   "metadata": {},
   "outputs": [
    {
     "name": "stdout",
     "output_type": "stream",
     "text": [
      "Processing images in folder: /home/jovyan/work/Documents/timelapse/cf90r1-041321-80LAS-diwater\n"
     ]
    },
    {
     "name": "stderr",
     "output_type": "stream",
     "text": [
      "t:   1%|          | 6/725 [00:00<00:13, 55.04it/s, now=None]"
     ]
    },
    {
     "name": "stdout",
     "output_type": "stream",
     "text": [
      "Moviepy - Building video cf90r1-041321-80LAS-diwater.mp4.\n",
      "Moviepy - Writing video cf90r1-041321-80LAS-diwater.mp4\n",
      "\n"
     ]
    },
    {
     "name": "stderr",
     "output_type": "stream",
     "text": [
      "                                                              \r"
     ]
    },
    {
     "name": "stdout",
     "output_type": "stream",
     "text": [
      "Moviepy - Done !\n",
      "Moviepy - video ready cf90r1-041321-80LAS-diwater.mp4\n"
     ]
    }
   ],
   "source": [
    "exp_folder='./cf90r1-041321-80LAS-diwater/'\n",
    "\n",
    "make_timalepse_video_from_folder(exp_folder)"
   ]
  },
  {
   "cell_type": "code",
   "execution_count": null,
   "id": "unable-contributor",
   "metadata": {},
   "outputs": [],
   "source": []
  }
 ],
 "metadata": {
  "kernelspec": {
   "display_name": "Python 3",
   "language": "python",
   "name": "python3"
  },
  "language_info": {
   "codemirror_mode": {
    "name": "ipython",
    "version": 3
   },
   "file_extension": ".py",
   "mimetype": "text/x-python",
   "name": "python",
   "nbconvert_exporter": "python",
   "pygments_lexer": "ipython3",
   "version": "3.8.8"
  }
 },
 "nbformat": 4,
 "nbformat_minor": 5
}
