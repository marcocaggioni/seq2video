{
 "cells": [
  {
   "cell_type": "code",
   "execution_count": 4,
   "id": "earned-stocks",
   "metadata": {},
   "outputs": [
    {
     "name": "stdout",
     "output_type": "stream",
     "text": [
      "Overwriting dissolution_video_simplescript.py\n"
     ]
    }
   ],
   "source": [
    "%%writefile dissolution_video_simplescript.py\n",
    "\n",
    "from pathlib import Path\n",
    "import datetime\n",
    "from moviepy.editor import *\n",
    "from PIL import Image\n",
    "from PIL import ImageFont\n",
    "from PIL import ImageDraw\n",
    "import numpy as np\n",
    "\n",
    "font = ImageFont.truetype(\"arial.ttf\", 40)\n",
    "\n",
    "exp_folder='./cf90r1-041321-80LAS-diwater/'\n",
    "\n",
    "def make_timelapse_video_from_folder(exp_folder):\n",
    "    '''Read images in exp_folder, find date created, \n",
    "    stamps it on the image and generate mp4 video \n",
    "    named as exp_folder in current folder'''\n",
    "    \n",
    "    exp_folder=Path(exp_folder)\n",
    "    \n",
    "    print(f'Processing images in folder: {exp_folder.resolve()}')\n",
    "    \n",
    "    p = Path(exp_folder).glob('**/*')\n",
    "          \n",
    "    files = [item for item in p if item.is_file() and item.suffix=='.jpg']\n",
    "    times = [datetime.datetime.fromtimestamp(file.stat().st_mtime) for file in files]\n",
    "    times=list(map(lambda x: x-times[0],times))\n",
    "\n",
    "    clips=[]\n",
    "    for file, time in zip(files, times):\n",
    "        img=Image.open(file)\n",
    "        ImageDraw.Draw(img).text((0,0), str(time),font=font)\n",
    "        clip =ImageClip(np.array(img)).set_duration(0.1)\n",
    "        clips.append(clip)\n",
    "\n",
    "    concat_clip = concatenate_videoclips(clips, method=\"compose\")\n",
    "    concat_clip.write_videofile(f\"{exp_folder.name}.mp4\", fps=24)\n",
    "\n",
    "if __name__ == '__main__':\n",
    "    make_timelapse_video_from_folder(exp_folder)"
   ]
  },
  {
   "cell_type": "code",
   "execution_count": 5,
   "id": "industrial-blind",
   "metadata": {},
   "outputs": [
    {
     "name": "stdout",
     "output_type": "stream",
     "text": [
      "Processing images in folder: /home/jovyan/work/Documents/timelapse/cf90r1-041321-80LAS-diwater\n",
      "Moviepy - Building video cf90r1-041321-80LAS-diwater.mp4.\n",
      "Moviepy - Writing video cf90r1-041321-80LAS-diwater.mp4\n",
      "\n",
      "Moviepy - Done !                                                                \n",
      "Moviepy - video ready cf90r1-041321-80LAS-diwater.mp4\n"
     ]
    }
   ],
   "source": [
    "!python dissolution_video_simplescript.py"
   ]
  },
  {
   "cell_type": "code",
   "execution_count": null,
   "id": "generous-madonna",
   "metadata": {},
   "outputs": [],
   "source": []
  }
 ],
 "metadata": {
  "kernelspec": {
   "display_name": "Python 3",
   "language": "python",
   "name": "python3"
  },
  "language_info": {
   "codemirror_mode": {
    "name": "ipython",
    "version": 3
   },
   "file_extension": ".py",
   "mimetype": "text/x-python",
   "name": "python",
   "nbconvert_exporter": "python",
   "pygments_lexer": "ipython3",
   "version": "3.8.8"
  }
 },
 "nbformat": 4,
 "nbformat_minor": 5
}
